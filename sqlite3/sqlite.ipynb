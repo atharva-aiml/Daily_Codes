{
 "cells": [
  {
   "cell_type": "code",
   "execution_count": 1,
   "id": "fdd4e4b8",
   "metadata": {},
   "outputs": [],
   "source": [
    "import sqlite3"
   ]
  },
  {
   "cell_type": "code",
   "execution_count": 3,
   "id": "fb7731a4",
   "metadata": {},
   "outputs": [],
   "source": [
    "connection = sqlite3.connect('example.db')"
   ]
  },
  {
   "cell_type": "code",
   "execution_count": 4,
   "id": "1bbc9e67",
   "metadata": {},
   "outputs": [
    {
     "data": {
      "text/plain": [
       "<sqlite3.Connection at 0x1bca88208a0>"
      ]
     },
     "execution_count": 4,
     "metadata": {},
     "output_type": "execute_result"
    }
   ],
   "source": [
    "connection"
   ]
  },
  {
   "cell_type": "code",
   "execution_count": 5,
   "id": "24a591c5",
   "metadata": {},
   "outputs": [],
   "source": [
    "cursor = connection.cursor()"
   ]
  },
  {
   "cell_type": "code",
   "execution_count": 6,
   "id": "0bf1ac91",
   "metadata": {},
   "outputs": [
    {
     "data": {
      "text/plain": [
       "<sqlite3.Cursor at 0x1bca880db20>"
      ]
     },
     "execution_count": 6,
     "metadata": {},
     "output_type": "execute_result"
    }
   ],
   "source": [
    "cursor"
   ]
  },
  {
   "cell_type": "code",
   "execution_count": 7,
   "id": "a62cf301",
   "metadata": {},
   "outputs": [],
   "source": [
    "#### create a table ####\n",
    "\n",
    "cursor.execute('''\n",
    "Create table if not exists employees(\n",
    "    id Integer Primary Key,\n",
    "    name Text Not Null,\n",
    "    age Integer,\n",
    "    dept Text\n",
    "    )\n",
    "''')\n",
    "\n",
    "#### Commit the changes\n",
    "connection.commit()"
   ]
  },
  {
   "cell_type": "code",
   "execution_count": 8,
   "id": "8a5734b9",
   "metadata": {},
   "outputs": [
    {
     "data": {
      "text/plain": [
       "<sqlite3.Cursor at 0x1bca880db20>"
      ]
     },
     "execution_count": 8,
     "metadata": {},
     "output_type": "execute_result"
    }
   ],
   "source": [
    "cursor.execute('''\n",
    "    Select * from employees\n",
    "''')"
   ]
  },
  {
   "cell_type": "code",
   "execution_count": 10,
   "id": "52aae7a7",
   "metadata": {},
   "outputs": [],
   "source": [
    "#### insert data ####\n",
    "\n",
    "cursor.execute('''\n",
    "    Insert into employees(name, age, dept)\n",
    "            values(\"krish\", 25, \"mech\")\n",
    "''')\n",
    "\n",
    "cursor.execute('''\n",
    "    Insert into employees(name, age, dept)\n",
    "            values(\"krish2\", 35, \"cs\")\n",
    "''')\n",
    "\n",
    "cursor.execute('''\n",
    "    Insert into employees(name, age, dept)\n",
    "            values(\"krish3\", 45, \"entc\")\n",
    "''')\n",
    "\n",
    "\n",
    "connection.commit()"
   ]
  },
  {
   "cell_type": "code",
   "execution_count": 13,
   "id": "d4703253",
   "metadata": {},
   "outputs": [
    {
     "name": "stdout",
     "output_type": "stream",
     "text": [
      "(1, 'krish', 25, 'mech')\n",
      "(2, 'krish2', 35, 'cs')\n",
      "(3, 'krish3', 45, 'entc')\n",
      "(4, 'krish', 25, 'mech')\n",
      "(5, 'krish2', 35, 'cs')\n",
      "(6, 'krish3', 45, 'entc')\n"
     ]
    }
   ],
   "source": [
    "cursor.execute('Select * from employees')\n",
    "rows = cursor.fetchall()\n",
    "\n",
    "for row in rows:\n",
    "    print(row)"
   ]
  },
  {
   "cell_type": "code",
   "execution_count": 16,
   "id": "6e7d8fe3",
   "metadata": {},
   "outputs": [],
   "source": [
    "cursor.execute('''\n",
    "    update employees\n",
    "        set age = 34\n",
    "        where name = \"krish\"\n",
    "''')\n",
    "\n",
    "connection.commit()"
   ]
  },
  {
   "cell_type": "code",
   "execution_count": 17,
   "id": "fbbb1fa0",
   "metadata": {},
   "outputs": [
    {
     "name": "stdout",
     "output_type": "stream",
     "text": [
      "(1, 'krish', 34, 'mech')\n",
      "(2, 'krish2', 35, 'cs')\n",
      "(3, 'krish3', 45, 'entc')\n",
      "(4, 'krish', 34, 'mech')\n",
      "(5, 'krish2', 35, 'cs')\n",
      "(6, 'krish3', 45, 'entc')\n"
     ]
    }
   ],
   "source": [
    "cursor.execute('Select * from employees')\n",
    "rows = cursor.fetchall()\n",
    "\n",
    "for row in rows:\n",
    "    print(row)"
   ]
  },
  {
   "cell_type": "code",
   "execution_count": 18,
   "id": "31e96c62",
   "metadata": {},
   "outputs": [],
   "source": [
    "#### Delete the data###\n",
    "\n",
    "cursor.execute('''\n",
    "    delete from employees\n",
    "        where name = 'krish2'\n",
    "''')\n",
    "\n",
    "connection.commit()"
   ]
  },
  {
   "cell_type": "code",
   "execution_count": 19,
   "id": "f37d707f",
   "metadata": {},
   "outputs": [
    {
     "name": "stdout",
     "output_type": "stream",
     "text": [
      "(1, 'krish', 34, 'mech')\n",
      "(3, 'krish3', 45, 'entc')\n",
      "(4, 'krish', 34, 'mech')\n",
      "(6, 'krish3', 45, 'entc')\n"
     ]
    }
   ],
   "source": [
    "cursor.execute('Select * from employees')\n",
    "rows = cursor.fetchall()\n",
    "\n",
    "for row in rows:\n",
    "    print(row)"
   ]
  },
  {
   "cell_type": "code",
   "execution_count": null,
   "id": "b7868181",
   "metadata": {},
   "outputs": [],
   "source": [
    "#### working with sales data ####\n",
    "\n"
   ]
  }
 ],
 "metadata": {
  "kernelspec": {
   "display_name": ".venv",
   "language": "python",
   "name": "python3"
  },
  "language_info": {
   "codemirror_mode": {
    "name": "ipython",
    "version": 3
   },
   "file_extension": ".py",
   "mimetype": "text/x-python",
   "name": "python",
   "nbconvert_exporter": "python",
   "pygments_lexer": "ipython3",
   "version": "3.9.7"
  }
 },
 "nbformat": 4,
 "nbformat_minor": 5
}
