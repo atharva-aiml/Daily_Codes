{
 "cells": [
  {
   "cell_type": "code",
   "execution_count": 4,
   "id": "4ef0cd1f",
   "metadata": {},
   "outputs": [],
   "source": [
    "import logging\n",
    "\n",
    "### create a logger for module1\n",
    "\n",
    "logger1 = logging.getLogger(\"Module1\")\n",
    "logger1.setLevel(logging.DEBUG)\n",
    "\n",
    "\n",
    "### create a logger fot module2\n",
    "\n",
    "logger2 = logging.getLogger(\"Module2\")\n",
    "logger2.setLevel(logging.WARNING)\n",
    "\n",
    "#### Configure logging \n",
    "\n",
    "logging.basicConfig(\n",
    "\n",
    "    level = logging.DEBUG,\n",
    "    format = '%(asctime)s-%(name)s-%(levelname)s-%(message)s',\n",
    "    datefmt = '%Y-%m-%d %H:%M:%S'\n",
    ")\n",
    "\n",
    "\n",
    "###log message with diffrent looggers\n",
    "\n",
    "logger1.debug(\"This is debug message for module1\")\n",
    "logger2.warning(\"This is a warning for module2\")\n",
    "logger2.error(\"This is an error message\")"
   ]
  },
  {
   "cell_type": "code",
   "execution_count": null,
   "id": "3ad70c04",
   "metadata": {},
   "outputs": [],
   "source": []
  }
 ],
 "metadata": {
  "kernelspec": {
   "display_name": ".venv",
   "language": "python",
   "name": "python3"
  },
  "language_info": {
   "codemirror_mode": {
    "name": "ipython",
    "version": 3
   },
   "file_extension": ".py",
   "mimetype": "text/x-python",
   "name": "python",
   "nbconvert_exporter": "python",
   "pygments_lexer": "ipython3",
   "version": "3.9.7"
  }
 },
 "nbformat": 4,
 "nbformat_minor": 5
}
